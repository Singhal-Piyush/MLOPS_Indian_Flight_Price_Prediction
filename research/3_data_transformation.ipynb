{
 "cells": [
  {
   "cell_type": "code",
   "execution_count": 9,
   "id": "ab078b28",
   "metadata": {},
   "outputs": [
    {
     "name": "stdout",
     "output_type": "stream",
     "text": [
      "Current working directory is G:\\ML_DL_Projects\\MLOPS_Indian_Flight_Price_Prediction \n"
     ]
    }
   ],
   "source": [
    "import os \n",
    "\n",
    "# get the current working directory \n",
    "%pwd\n",
    "\n",
    "# change the working directory to parent directory\n",
    "working_dir = \"G:/ML_DL_Projects/MLOPS_Indian_Flight_Price_Prediction\"\n",
    "os.chdir(working_dir)\n",
    "\n",
    "print(f\"Current working directory is {os.getcwd()} \")"
   ]
  },
  {
   "cell_type": "code",
   "execution_count": 10,
   "id": "0a605bd2",
   "metadata": {},
   "outputs": [],
   "source": [
    "from dataclasses import dataclass\n",
    "from pathlib import Path\n",
    "\n",
    "@dataclass\n",
    "class DataTransformationConfig:\n",
    "    root_dir : Path\n",
    "    data_path : Path"
   ]
  },
  {
   "cell_type": "code",
   "execution_count": 11,
   "id": "609f9747",
   "metadata": {},
   "outputs": [],
   "source": [
    "from src.indian_flight_price_prediction.constants import *\n",
    "from src.indian_flight_price_prediction.utils.common import read_yaml, create_directories"
   ]
  },
  {
   "cell_type": "code",
   "execution_count": 12,
   "id": "66140b2d",
   "metadata": {},
   "outputs": [],
   "source": [
    "class ConfigurationManager:\n",
    "    def __init__(self,\n",
    "                config_file_path = CONFIG_FILE_PATH,\n",
    "                params_file_path = PARAMS_FILE_PATH,\n",
    "                schema_file_path = SCHEMA_FILE_PATH):\n",
    "        \n",
    "        self.config = read_yaml(config_file_path)\n",
    "        self.params = read_yaml(params_file_path)\n",
    "        self.schema = read_yaml(schema_file_path)\n",
    "\n",
    "        create_directories([self.config.artifacts_root])\n",
    "\n",
    "    def get_data_transformation_config(self) -> DataTransformationConfig:\n",
    "        config = self.config.data_transformation\n",
    "        create_directories ([config.root_dir])\n",
    "\n",
    "        data_transformation_config = DataTransformationConfig(\n",
    "            root_dir = config.root_dir,\n",
    "            data_path = config.data_path,\n",
    "        )\n",
    "\n",
    "        return data_transformation_config"
   ]
  },
  {
   "cell_type": "code",
   "execution_count": 13,
   "id": "37d13093",
   "metadata": {},
   "outputs": [],
   "source": [
    "import os\n",
    "from src.indian_flight_price_prediction.logger import logger\n",
    "from sklearn.model_selection import train_test_split\n",
    "import pandas as pd"
   ]
  },
  {
   "cell_type": "code",
   "execution_count": 14,
   "id": "7276cac2",
   "metadata": {},
   "outputs": [],
   "source": [
    "class DataTransformation:\n",
    "    def __init__(self, config : DataTransformationConfig):\n",
    "        self.config = config\n",
    "\n",
    "    # All the data transformation and data- preprocessing such as scalar, PCA and many more at this stage before passing it to ML training pipeline\n",
    "\n",
    "    def train_test_splitting(self):\n",
    "        data = pd.read_csv(self.config.data_path)\n",
    "\n",
    "        # split the data into training and test set (0.75, 0.25)\n",
    "        train, test = train_test_split(data, train_size= 0.75)\n",
    "\n",
    "        train.to_csv(os.path.join(self.config.root_dir,\"train.csv\"), index = False)\n",
    "        test.to_csv(os.path.join(self.config.root_dir,\"test.csv\"), index = False)\n",
    "\n",
    "        logger.info(\"Splited data into training and test split\")\n",
    "        logger.info(train.shape)\n",
    "        logger.info(test.shape)\n",
    "\n",
    "        print(train.shape)\n",
    "        print(test.shape)"
   ]
  },
  {
   "cell_type": "code",
   "execution_count": 15,
   "id": "2317ce65",
   "metadata": {},
   "outputs": [
    {
     "name": "stdout",
     "output_type": "stream",
     "text": [
      "[2025-04-22 14:07:59,174 : INFO : common : yaml file : config\\config.yaml loaded successfully.]\n",
      "[2025-04-22 14:07:59,189 : INFO : common : yaml file : params.yaml loaded successfully.]\n",
      "[2025-04-22 14:07:59,208 : INFO : common : yaml file : schema.yaml loaded successfully.]\n",
      "[2025-04-22 14:07:59,211 : INFO : common : Created directory at artifacts]\n",
      "[2025-04-22 14:07:59,213 : INFO : common : Created directory at artifacts/data_transformation]\n",
      "[2025-04-22 14:08:03,403 : INFO : 951862613 : Splited data into training and test split]\n",
      "[2025-04-22 14:08:03,412 : INFO : 951862613 : (155080, 11)]\n",
      "[2025-04-22 14:08:03,419 : INFO : 951862613 : (51694, 11)]\n",
      "(155080, 11)\n",
      "(51694, 11)\n"
     ]
    }
   ],
   "source": [
    "try:\n",
    "    config = ConfigurationManager()\n",
    "    data_transformation_config = config.get_data_transformation_config()\n",
    "    data_transformation = DataTransformation(config = data_transformation_config)\n",
    "    data_transformation.train_test_splitting()\n",
    "\n",
    "except Exception as e:\n",
    "    raise e"
   ]
  },
  {
   "cell_type": "code",
   "execution_count": null,
   "id": "01e79be1",
   "metadata": {},
   "outputs": [],
   "source": []
  }
 ],
 "metadata": {
  "kernelspec": {
   "display_name": "Python 3",
   "language": "python",
   "name": "python3"
  },
  "language_info": {
   "codemirror_mode": {
    "name": "ipython",
    "version": 3
   },
   "file_extension": ".py",
   "mimetype": "text/x-python",
   "name": "python",
   "nbconvert_exporter": "python",
   "pygments_lexer": "ipython3",
   "version": "3.12.0"
  }
 },
 "nbformat": 4,
 "nbformat_minor": 5
}
