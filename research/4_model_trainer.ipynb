{
 "cells": [
  {
   "cell_type": "code",
   "execution_count": 1,
   "id": "a351579e",
   "metadata": {},
   "outputs": [
    {
     "name": "stdout",
     "output_type": "stream",
     "text": [
      "Current working directory is G:\\ML_DL_Projects\\MLOPS_Indian_Flight_Price_Prediction \n"
     ]
    }
   ],
   "source": [
    "import os \n",
    "\n",
    "# get the current working directory \n",
    "%pwd\n",
    "\n",
    "# change the working directory to parent directory\n",
    "working_dir = \"G:/ML_DL_Projects/MLOPS_Indian_Flight_Price_Prediction\"\n",
    "os.chdir(working_dir)\n",
    "\n",
    "print(f\"Current working directory is {os.getcwd()} \")"
   ]
  }
 ],
 "metadata": {
  "kernelspec": {
   "display_name": "Python 3",
   "language": "python",
   "name": "python3"
  },
  "language_info": {
   "codemirror_mode": {
    "name": "ipython",
    "version": 3
   },
   "file_extension": ".py",
   "mimetype": "text/x-python",
   "name": "python",
   "nbconvert_exporter": "python",
   "pygments_lexer": "ipython3",
   "version": "3.12.0"
  }
 },
 "nbformat": 4,
 "nbformat_minor": 5
}
