{
 "cells": [
  {
   "cell_type": "markdown",
   "id": "91d5b5b0",
   "metadata": {},
   "source": [
    "# Indian Flight Price Prediction"
   ]
  },
  {
   "cell_type": "markdown",
   "id": "3a8617f8",
   "metadata": {},
   "source": [
    "## Table of content"
   ]
  },
  {
   "cell_type": "markdown",
   "id": "e4236d98",
   "metadata": {},
   "source": [
    "We will be predicting the flight prices of Indian Airline, using the data provided by [Kaggle_Indian Airlines Ticket Price](https://www.kaggle.com/datasets/shubhambathwal/flight-price-prediction)"
   ]
  },
  {
   "cell_type": "markdown",
   "id": "fb44f483",
   "metadata": {},
   "source": [
    "### Libraries"
   ]
  },
  {
   "cell_type": "code",
   "execution_count": 2,
   "id": "fa2dedf1",
   "metadata": {},
   "outputs": [],
   "source": [
    "# import os and time libraries \n",
    "import os \n",
    "import time \n",
    "import warnings\n",
    "warnings.filterwarnings('ignore')\n",
    "\n",
    "# basic libraries\n",
    "import pandas as pd\n",
    "import numpy as np\n",
    "import seaborn as sns\n",
    "import matplotlib.pyplot as plt\n",
    "%matplotlib inline \n",
    "\n",
    "# machine learning libraries using sklearn\n"
   ]
  },
  {
   "cell_type": "code",
   "execution_count": 3,
   "id": "69fcbbb8",
   "metadata": {},
   "outputs": [],
   "source": [
    "# new libraries to import "
   ]
  },
  {
   "cell_type": "markdown",
   "id": "428a37b0",
   "metadata": {},
   "source": [
    "## Introduction"
   ]
  },
  {
   "cell_type": "code",
   "execution_count": null,
   "id": "9f869fd6",
   "metadata": {},
   "outputs": [],
   "source": []
  },
  {
   "cell_type": "code",
   "execution_count": null,
   "id": "e6775fa5",
   "metadata": {},
   "outputs": [],
   "source": []
  },
  {
   "cell_type": "markdown",
   "id": "66028167",
   "metadata": {},
   "source": [
    "## Loading data "
   ]
  },
  {
   "cell_type": "code",
   "execution_count": 4,
   "id": "e8a29cf6",
   "metadata": {},
   "outputs": [
    {
     "data": {
      "text/html": [
       "<div>\n",
       "<style scoped>\n",
       "    .dataframe tbody tr th:only-of-type {\n",
       "        vertical-align: middle;\n",
       "    }\n",
       "\n",
       "    .dataframe tbody tr th {\n",
       "        vertical-align: top;\n",
       "    }\n",
       "\n",
       "    .dataframe thead th {\n",
       "        text-align: right;\n",
       "    }\n",
       "</style>\n",
       "<table border=\"1\" class=\"dataframe\">\n",
       "  <thead>\n",
       "    <tr style=\"text-align: right;\">\n",
       "      <th></th>\n",
       "      <th>Unnamed: 0</th>\n",
       "      <th>airline</th>\n",
       "      <th>flight</th>\n",
       "      <th>source_city</th>\n",
       "      <th>departure_time</th>\n",
       "      <th>stops</th>\n",
       "      <th>arrival_time</th>\n",
       "      <th>destination_city</th>\n",
       "      <th>class</th>\n",
       "      <th>duration</th>\n",
       "      <th>days_left</th>\n",
       "      <th>price</th>\n",
       "    </tr>\n",
       "  </thead>\n",
       "  <tbody>\n",
       "    <tr>\n",
       "      <th>90503</th>\n",
       "      <td>90503</td>\n",
       "      <td>Vistara</td>\n",
       "      <td>UK-850</td>\n",
       "      <td>Bangalore</td>\n",
       "      <td>Evening</td>\n",
       "      <td>one</td>\n",
       "      <td>Morning</td>\n",
       "      <td>Delhi</td>\n",
       "      <td>Economy</td>\n",
       "      <td>12.67</td>\n",
       "      <td>33</td>\n",
       "      <td>4111</td>\n",
       "    </tr>\n",
       "    <tr>\n",
       "      <th>140787</th>\n",
       "      <td>140787</td>\n",
       "      <td>Air_India</td>\n",
       "      <td>AI-773</td>\n",
       "      <td>Kolkata</td>\n",
       "      <td>Evening</td>\n",
       "      <td>one</td>\n",
       "      <td>Evening</td>\n",
       "      <td>Bangalore</td>\n",
       "      <td>Economy</td>\n",
       "      <td>25.25</td>\n",
       "      <td>38</td>\n",
       "      <td>6512</td>\n",
       "    </tr>\n",
       "    <tr>\n",
       "      <th>46586</th>\n",
       "      <td>46586</td>\n",
       "      <td>Vistara</td>\n",
       "      <td>UK-877</td>\n",
       "      <td>Mumbai</td>\n",
       "      <td>Morning</td>\n",
       "      <td>one</td>\n",
       "      <td>Morning</td>\n",
       "      <td>Delhi</td>\n",
       "      <td>Economy</td>\n",
       "      <td>22.25</td>\n",
       "      <td>20</td>\n",
       "      <td>5232</td>\n",
       "    </tr>\n",
       "    <tr>\n",
       "      <th>247540</th>\n",
       "      <td>247540</td>\n",
       "      <td>Air_India</td>\n",
       "      <td>AI-503</td>\n",
       "      <td>Bangalore</td>\n",
       "      <td>Evening</td>\n",
       "      <td>zero</td>\n",
       "      <td>Night</td>\n",
       "      <td>Delhi</td>\n",
       "      <td>Business</td>\n",
       "      <td>2.75</td>\n",
       "      <td>36</td>\n",
       "      <td>32923</td>\n",
       "    </tr>\n",
       "    <tr>\n",
       "      <th>67308</th>\n",
       "      <td>67308</td>\n",
       "      <td>Air_India</td>\n",
       "      <td>AI-442</td>\n",
       "      <td>Mumbai</td>\n",
       "      <td>Afternoon</td>\n",
       "      <td>one</td>\n",
       "      <td>Morning</td>\n",
       "      <td>Kolkata</td>\n",
       "      <td>Economy</td>\n",
       "      <td>16.50</td>\n",
       "      <td>33</td>\n",
       "      <td>6000</td>\n",
       "    </tr>\n",
       "    <tr>\n",
       "      <th>68781</th>\n",
       "      <td>68781</td>\n",
       "      <td>Vistara</td>\n",
       "      <td>UK-928</td>\n",
       "      <td>Mumbai</td>\n",
       "      <td>Early_Morning</td>\n",
       "      <td>one</td>\n",
       "      <td>Evening</td>\n",
       "      <td>Kolkata</td>\n",
       "      <td>Economy</td>\n",
       "      <td>11.58</td>\n",
       "      <td>41</td>\n",
       "      <td>5949</td>\n",
       "    </tr>\n",
       "    <tr>\n",
       "      <th>123200</th>\n",
       "      <td>123200</td>\n",
       "      <td>GO_FIRST</td>\n",
       "      <td>G8-789</td>\n",
       "      <td>Kolkata</td>\n",
       "      <td>Morning</td>\n",
       "      <td>one</td>\n",
       "      <td>Night</td>\n",
       "      <td>Delhi</td>\n",
       "      <td>Economy</td>\n",
       "      <td>11.83</td>\n",
       "      <td>24</td>\n",
       "      <td>6488</td>\n",
       "    </tr>\n",
       "    <tr>\n",
       "      <th>132997</th>\n",
       "      <td>132997</td>\n",
       "      <td>Air_India</td>\n",
       "      <td>AI-9745</td>\n",
       "      <td>Kolkata</td>\n",
       "      <td>Morning</td>\n",
       "      <td>one</td>\n",
       "      <td>Evening</td>\n",
       "      <td>Mumbai</td>\n",
       "      <td>Economy</td>\n",
       "      <td>5.83</td>\n",
       "      <td>35</td>\n",
       "      <td>4846</td>\n",
       "    </tr>\n",
       "    <tr>\n",
       "      <th>265649</th>\n",
       "      <td>265649</td>\n",
       "      <td>Vistara</td>\n",
       "      <td>UK-738</td>\n",
       "      <td>Kolkata</td>\n",
       "      <td>Evening</td>\n",
       "      <td>one</td>\n",
       "      <td>Morning</td>\n",
       "      <td>Mumbai</td>\n",
       "      <td>Business</td>\n",
       "      <td>15.00</td>\n",
       "      <td>25</td>\n",
       "      <td>64831</td>\n",
       "    </tr>\n",
       "    <tr>\n",
       "      <th>107491</th>\n",
       "      <td>107491</td>\n",
       "      <td>AirAsia</td>\n",
       "      <td>I5-2461</td>\n",
       "      <td>Bangalore</td>\n",
       "      <td>Evening</td>\n",
       "      <td>one</td>\n",
       "      <td>Late_Night</td>\n",
       "      <td>Kolkata</td>\n",
       "      <td>Economy</td>\n",
       "      <td>10.00</td>\n",
       "      <td>35</td>\n",
       "      <td>3393</td>\n",
       "    </tr>\n",
       "  </tbody>\n",
       "</table>\n",
       "</div>"
      ],
      "text/plain": [
       "        Unnamed: 0    airline   flight source_city departure_time stops  \\\n",
       "90503        90503    Vistara   UK-850   Bangalore        Evening   one   \n",
       "140787      140787  Air_India   AI-773     Kolkata        Evening   one   \n",
       "46586        46586    Vistara   UK-877      Mumbai        Morning   one   \n",
       "247540      247540  Air_India   AI-503   Bangalore        Evening  zero   \n",
       "67308        67308  Air_India   AI-442      Mumbai      Afternoon   one   \n",
       "68781        68781    Vistara   UK-928      Mumbai  Early_Morning   one   \n",
       "123200      123200   GO_FIRST   G8-789     Kolkata        Morning   one   \n",
       "132997      132997  Air_India  AI-9745     Kolkata        Morning   one   \n",
       "265649      265649    Vistara   UK-738     Kolkata        Evening   one   \n",
       "107491      107491    AirAsia  I5-2461   Bangalore        Evening   one   \n",
       "\n",
       "       arrival_time destination_city     class  duration  days_left  price  \n",
       "90503       Morning            Delhi   Economy     12.67         33   4111  \n",
       "140787      Evening        Bangalore   Economy     25.25         38   6512  \n",
       "46586       Morning            Delhi   Economy     22.25         20   5232  \n",
       "247540        Night            Delhi  Business      2.75         36  32923  \n",
       "67308       Morning          Kolkata   Economy     16.50         33   6000  \n",
       "68781       Evening          Kolkata   Economy     11.58         41   5949  \n",
       "123200        Night            Delhi   Economy     11.83         24   6488  \n",
       "132997      Evening           Mumbai   Economy      5.83         35   4846  \n",
       "265649      Morning           Mumbai  Business     15.00         25  64831  \n",
       "107491   Late_Night          Kolkata   Economy     10.00         35   3393  "
      ]
     },
     "execution_count": 4,
     "metadata": {},
     "output_type": "execute_result"
    }
   ],
   "source": [
    "# after downloading the data from kaggle\n",
    "dataset = pd.read_csv(\"G://ML_DL_Projects//MLOPS_Indian_Flight_Price_Prediction//Dataset//Clean_Dataset.csv\")\n",
    "\n",
    "# view sample observation in the dataset\n",
    "dataset.sample(10)"
   ]
  },
  {
   "cell_type": "markdown",
   "id": "f82d289f",
   "metadata": {},
   "source": [
    "We should check whether we have duplicate values in the dataset using the column \"Unnamed: 0\" using the duplicated method in pandas."
   ]
  },
  {
   "cell_type": "code",
   "execution_count": 5,
   "id": "20fcce4c",
   "metadata": {},
   "outputs": [
    {
     "data": {
      "text/plain": [
       "0"
      ]
     },
     "execution_count": 5,
     "metadata": {},
     "output_type": "execute_result"
    }
   ],
   "source": [
    "# check for duplicate \n",
    "dataset.duplicated(subset = ['Unnamed: 0']).sum()"
   ]
  },
  {
   "cell_type": "code",
   "execution_count": 6,
   "id": "38ce6df1",
   "metadata": {},
   "outputs": [
    {
     "data": {
      "text/html": [
       "<div>\n",
       "<style scoped>\n",
       "    .dataframe tbody tr th:only-of-type {\n",
       "        vertical-align: middle;\n",
       "    }\n",
       "\n",
       "    .dataframe tbody tr th {\n",
       "        vertical-align: top;\n",
       "    }\n",
       "\n",
       "    .dataframe thead th {\n",
       "        text-align: right;\n",
       "    }\n",
       "</style>\n",
       "<table border=\"1\" class=\"dataframe\">\n",
       "  <thead>\n",
       "    <tr style=\"text-align: right;\">\n",
       "      <th></th>\n",
       "      <th>airline</th>\n",
       "      <th>flight</th>\n",
       "      <th>source_city</th>\n",
       "      <th>departure_time</th>\n",
       "      <th>stops</th>\n",
       "      <th>arrival_time</th>\n",
       "      <th>destination_city</th>\n",
       "      <th>class</th>\n",
       "      <th>duration</th>\n",
       "      <th>days_left</th>\n",
       "      <th>price</th>\n",
       "    </tr>\n",
       "  </thead>\n",
       "  <tbody>\n",
       "    <tr>\n",
       "      <th>194502</th>\n",
       "      <td>Vistara</td>\n",
       "      <td>UK-836</td>\n",
       "      <td>Chennai</td>\n",
       "      <td>Morning</td>\n",
       "      <td>one</td>\n",
       "      <td>Evening</td>\n",
       "      <td>Bangalore</td>\n",
       "      <td>Economy</td>\n",
       "      <td>6.25</td>\n",
       "      <td>11</td>\n",
       "      <td>12318</td>\n",
       "    </tr>\n",
       "    <tr>\n",
       "      <th>84868</th>\n",
       "      <td>Air_India</td>\n",
       "      <td>AI-9876</td>\n",
       "      <td>Bangalore</td>\n",
       "      <td>Afternoon</td>\n",
       "      <td>one</td>\n",
       "      <td>Morning</td>\n",
       "      <td>Delhi</td>\n",
       "      <td>Economy</td>\n",
       "      <td>17.75</td>\n",
       "      <td>6</td>\n",
       "      <td>9904</td>\n",
       "    </tr>\n",
       "    <tr>\n",
       "      <th>260005</th>\n",
       "      <td>Vistara</td>\n",
       "      <td>UK-808</td>\n",
       "      <td>Bangalore</td>\n",
       "      <td>Early_Morning</td>\n",
       "      <td>one</td>\n",
       "      <td>Night</td>\n",
       "      <td>Chennai</td>\n",
       "      <td>Business</td>\n",
       "      <td>14.75</td>\n",
       "      <td>25</td>\n",
       "      <td>60396</td>\n",
       "    </tr>\n",
       "    <tr>\n",
       "      <th>227588</th>\n",
       "      <td>Vistara</td>\n",
       "      <td>UK-653</td>\n",
       "      <td>Mumbai</td>\n",
       "      <td>Early_Morning</td>\n",
       "      <td>one</td>\n",
       "      <td>Evening</td>\n",
       "      <td>Delhi</td>\n",
       "      <td>Business</td>\n",
       "      <td>13.83</td>\n",
       "      <td>27</td>\n",
       "      <td>40933</td>\n",
       "    </tr>\n",
       "    <tr>\n",
       "      <th>222467</th>\n",
       "      <td>Vistara</td>\n",
       "      <td>UK-995</td>\n",
       "      <td>Delhi</td>\n",
       "      <td>Morning</td>\n",
       "      <td>one</td>\n",
       "      <td>Evening</td>\n",
       "      <td>Chennai</td>\n",
       "      <td>Business</td>\n",
       "      <td>9.58</td>\n",
       "      <td>11</td>\n",
       "      <td>57992</td>\n",
       "    </tr>\n",
       "  </tbody>\n",
       "</table>\n",
       "</div>"
      ],
      "text/plain": [
       "          airline   flight source_city departure_time stops arrival_time  \\\n",
       "194502    Vistara   UK-836     Chennai        Morning   one      Evening   \n",
       "84868   Air_India  AI-9876   Bangalore      Afternoon   one      Morning   \n",
       "260005    Vistara   UK-808   Bangalore  Early_Morning   one        Night   \n",
       "227588    Vistara   UK-653      Mumbai  Early_Morning   one      Evening   \n",
       "222467    Vistara   UK-995       Delhi        Morning   one      Evening   \n",
       "\n",
       "       destination_city     class  duration  days_left  price  \n",
       "194502        Bangalore   Economy      6.25         11  12318  \n",
       "84868             Delhi   Economy     17.75          6   9904  \n",
       "260005          Chennai  Business     14.75         25  60396  \n",
       "227588            Delhi  Business     13.83         27  40933  \n",
       "222467          Chennai  Business      9.58         11  57992  "
      ]
     },
     "execution_count": 6,
     "metadata": {},
     "output_type": "execute_result"
    }
   ],
   "source": [
    "# Drop Column \"Unnamed 0\"\n",
    "dataset.drop(labels= ['Unnamed: 0'], axis = 1 , inplace = True)\n",
    "dataset.sample(5)"
   ]
  },
  {
   "cell_type": "code",
   "execution_count": 7,
   "id": "8802fafe",
   "metadata": {},
   "outputs": [
    {
     "name": "stdout",
     "output_type": "stream",
     "text": [
      "Dataset shape is \n",
      "(300153, 11)\n",
      "\n",
      "Columns present in the dataset are \n",
      "Index(['airline', 'flight', 'source_city', 'departure_time', 'stops',\n",
      "       'arrival_time', 'destination_city', 'class', 'duration', 'days_left',\n",
      "       'price'],\n",
      "      dtype='object')\n"
     ]
    }
   ],
   "source": [
    "# check the shape of the dataset\n",
    "print(f\"Dataset shape is \\n{dataset.shape}\\n\")\n",
    "\n",
    "# List the columns present in the dataset\n",
    "print(f\"Columns present in the dataset are \\n{dataset.columns}\")"
   ]
  },
  {
   "cell_type": "markdown",
   "id": "9c6544dc",
   "metadata": {},
   "source": [
    "In total, we have 300K observations in our dataset with 11 columns, decribing the names of airlines, flight identification number, origin city of the flight and destination city, with its departure and arrival time, and duration. Our target column will be \"price\" that we will be predicting in the project. "
   ]
  },
  {
   "cell_type": "code",
   "execution_count": 8,
   "id": "2832ec71",
   "metadata": {},
   "outputs": [
    {
     "name": "stdout",
     "output_type": "stream",
     "text": [
      "<class 'pandas.core.frame.DataFrame'>\n",
      "RangeIndex: 300153 entries, 0 to 300152\n",
      "Data columns (total 11 columns):\n",
      " #   Column            Non-Null Count   Dtype  \n",
      "---  ------            --------------   -----  \n",
      " 0   airline           300153 non-null  object \n",
      " 1   flight            300153 non-null  object \n",
      " 2   source_city       300153 non-null  object \n",
      " 3   departure_time    300153 non-null  object \n",
      " 4   stops             300153 non-null  object \n",
      " 5   arrival_time      300153 non-null  object \n",
      " 6   destination_city  300153 non-null  object \n",
      " 7   class             300153 non-null  object \n",
      " 8   duration          300153 non-null  float64\n",
      " 9   days_left         300153 non-null  int64  \n",
      " 10  price             300153 non-null  int64  \n",
      "dtypes: float64(1), int64(2), object(8)\n",
      "memory usage: 152.8 MB\n"
     ]
    }
   ],
   "source": [
    "# check meta data about the dataset\n",
    "dataset.info(memory_usage = 'deep')"
   ]
  },
  {
   "cell_type": "markdown",
   "id": "ef5b8fcb",
   "metadata": {},
   "source": [
    "In detail, overview of the dataset we don't have any null values which we will once again comfirm using isnull() function, and our dataset is occupying 152.8MB of memory.\n",
    "\n",
    "We have 8 columns that are categorical in nature that we will have to encode and 2 numerical columns."
   ]
  },
  {
   "cell_type": "code",
   "execution_count": 9,
   "id": "04b5f2ff",
   "metadata": {},
   "outputs": [
    {
     "data": {
      "text/plain": [
       "airline             0\n",
       "flight              0\n",
       "source_city         0\n",
       "departure_time      0\n",
       "stops               0\n",
       "arrival_time        0\n",
       "destination_city    0\n",
       "class               0\n",
       "duration            0\n",
       "days_left           0\n",
       "price               0\n",
       "dtype: int64"
      ]
     },
     "execution_count": 9,
     "metadata": {},
     "output_type": "execute_result"
    }
   ],
   "source": [
    "# check for null values \n",
    "dataset.isnull().sum()"
   ]
  },
  {
   "cell_type": "code",
   "execution_count": 10,
   "id": "3500ace2",
   "metadata": {},
   "outputs": [
    {
     "name": "stdout",
     "output_type": "stream",
     "text": [
      "Columns in Dataset are:\n",
      "Index(['airline', 'flight', 'source_city', 'departure_time', 'stops',\n",
      "       'arrival_time', 'destination_city', 'class', 'duration', 'days_left',\n",
      "       'price'],\n",
      "      dtype='object')\n",
      "\n",
      "\n",
      "Categorical columns are: \n",
      "Index(['airline', 'flight', 'source_city', 'departure_time', 'stops',\n",
      "       'arrival_time', 'destination_city', 'class'],\n",
      "      dtype='object')\n",
      "\n",
      "\n",
      "Numerical columns are: \n",
      "Index(['duration', 'days_left', 'price'], dtype='object')\n"
     ]
    }
   ],
   "source": [
    "# list of all the columns in the dataset\n",
    "print(\"Columns in Dataset are:\")\n",
    "print(dataset.columns)\n",
    "\n",
    "# categorical columns\n",
    "cat_col = dataset.select_dtypes(include = \"object\").columns\n",
    "print(\"\\n\")\n",
    "print('Categorical columns are: ')\n",
    "print(cat_col)\n",
    "\n",
    "# numerical columns\n",
    "num_col = dataset.select_dtypes(exclude = 'object').columns\n",
    "print(\"\\n\")\n",
    "print(\"Numerical columns are: \")\n",
    "print(num_col)"
   ]
  },
  {
   "cell_type": "markdown",
   "id": "a9424c85",
   "metadata": {},
   "source": [
    "Above is the list of categorical columns and numerical columns in details. "
   ]
  },
  {
   "cell_type": "code",
   "execution_count": 11,
   "id": "6af28fbd",
   "metadata": {},
   "outputs": [
    {
     "name": "stdout",
     "output_type": "stream",
     "text": [
      "AIRLINE  :  6\n",
      "['SpiceJet' 'AirAsia' 'Vistara' 'GO_FIRST' 'Indigo' 'Air_India'] \n",
      "\n",
      "FLIGHT  :  1561\n",
      "['SG-8709' 'SG-8157' 'I5-764' ... '6E-7127' '6E-7259' 'AI-433'] \n",
      "\n",
      "SOURCE_CITY  :  6\n",
      "['Delhi' 'Mumbai' 'Bangalore' 'Kolkata' 'Hyderabad' 'Chennai'] \n",
      "\n",
      "DEPARTURE_TIME  :  6\n",
      "['Evening' 'Early_Morning' 'Morning' 'Afternoon' 'Night' 'Late_Night'] \n",
      "\n",
      "STOPS  :  3\n",
      "['zero' 'one' 'two_or_more'] \n",
      "\n",
      "ARRIVAL_TIME  :  6\n",
      "['Night' 'Morning' 'Early_Morning' 'Afternoon' 'Evening' 'Late_Night'] \n",
      "\n",
      "DESTINATION_CITY  :  6\n",
      "['Mumbai' 'Bangalore' 'Kolkata' 'Hyderabad' 'Chennai' 'Delhi'] \n",
      "\n",
      "CLASS  :  2\n",
      "['Economy' 'Business'] \n",
      "\n"
     ]
    }
   ],
   "source": [
    "# check for unique values in categorical columns\n",
    "for i in cat_col:\n",
    "    print(i.upper(), \" : \", dataset[i].nunique())\n",
    "    print(dataset[i].unique(),\"\\n\")"
   ]
  },
  {
   "cell_type": "code",
   "execution_count": 12,
   "id": "d33e420c",
   "metadata": {},
   "outputs": [
    {
     "data": {
      "text/html": [
       "<div>\n",
       "<style scoped>\n",
       "    .dataframe tbody tr th:only-of-type {\n",
       "        vertical-align: middle;\n",
       "    }\n",
       "\n",
       "    .dataframe tbody tr th {\n",
       "        vertical-align: top;\n",
       "    }\n",
       "\n",
       "    .dataframe thead th {\n",
       "        text-align: right;\n",
       "    }\n",
       "</style>\n",
       "<table border=\"1\" class=\"dataframe\">\n",
       "  <thead>\n",
       "    <tr style=\"text-align: right;\">\n",
       "      <th></th>\n",
       "      <th>duration</th>\n",
       "      <th>days_left</th>\n",
       "      <th>price</th>\n",
       "    </tr>\n",
       "  </thead>\n",
       "  <tbody>\n",
       "    <tr>\n",
       "      <th>count</th>\n",
       "      <td>300153.000000</td>\n",
       "      <td>300153.000000</td>\n",
       "      <td>300153.000000</td>\n",
       "    </tr>\n",
       "    <tr>\n",
       "      <th>mean</th>\n",
       "      <td>12.221021</td>\n",
       "      <td>26.004751</td>\n",
       "      <td>20889.660523</td>\n",
       "    </tr>\n",
       "    <tr>\n",
       "      <th>std</th>\n",
       "      <td>7.191997</td>\n",
       "      <td>13.561004</td>\n",
       "      <td>22697.767366</td>\n",
       "    </tr>\n",
       "    <tr>\n",
       "      <th>min</th>\n",
       "      <td>0.830000</td>\n",
       "      <td>1.000000</td>\n",
       "      <td>1105.000000</td>\n",
       "    </tr>\n",
       "    <tr>\n",
       "      <th>25%</th>\n",
       "      <td>6.830000</td>\n",
       "      <td>15.000000</td>\n",
       "      <td>4783.000000</td>\n",
       "    </tr>\n",
       "    <tr>\n",
       "      <th>50%</th>\n",
       "      <td>11.250000</td>\n",
       "      <td>26.000000</td>\n",
       "      <td>7425.000000</td>\n",
       "    </tr>\n",
       "    <tr>\n",
       "      <th>75%</th>\n",
       "      <td>16.170000</td>\n",
       "      <td>38.000000</td>\n",
       "      <td>42521.000000</td>\n",
       "    </tr>\n",
       "    <tr>\n",
       "      <th>max</th>\n",
       "      <td>49.830000</td>\n",
       "      <td>49.000000</td>\n",
       "      <td>123071.000000</td>\n",
       "    </tr>\n",
       "  </tbody>\n",
       "</table>\n",
       "</div>"
      ],
      "text/plain": [
       "            duration      days_left          price\n",
       "count  300153.000000  300153.000000  300153.000000\n",
       "mean       12.221021      26.004751   20889.660523\n",
       "std         7.191997      13.561004   22697.767366\n",
       "min         0.830000       1.000000    1105.000000\n",
       "25%         6.830000      15.000000    4783.000000\n",
       "50%        11.250000      26.000000    7425.000000\n",
       "75%        16.170000      38.000000   42521.000000\n",
       "max        49.830000      49.000000  123071.000000"
      ]
     },
     "execution_count": 12,
     "metadata": {},
     "output_type": "execute_result"
    }
   ],
   "source": [
    "# descriptive statistic of numerical features in dataset\n",
    "dataset.describe()"
   ]
  },
  {
   "cell_type": "markdown",
   "id": "a59f766f",
   "metadata": {},
   "source": [
    "## Exploratory Data Analysis"
   ]
  },
  {
   "cell_type": "markdown",
   "id": "9322c930",
   "metadata": {},
   "source": [
    "In this, project or main focus is to predict the price of airline tickets in Indian Aviation Market mostly on tickets of Economy Class and Business class. So while performing EDA, we will keep our focus on these two parameters while answering questions related to them and for other analysis questions."
   ]
  },
  {
   "cell_type": "markdown",
   "id": "94189d6c",
   "metadata": {},
   "source": [
    "### Column :- \"Airline\""
   ]
  },
  {
   "cell_type": "code",
   "execution_count": 14,
   "id": "3ef2f201",
   "metadata": {},
   "outputs": [
    {
     "data": {
      "image/png": "[encoded data removed]",
      "text/plain": [
       "<Figure size 1000x800 with 2 Axes>"
      ]
     },
     "metadata": {},
     "output_type": "display_data"
    }
   ],
   "source": [
    "# Count plot\n",
    "\n",
    "fig, axs = plt.subplots(1,2, figsize = (10,8))\n",
    "\n",
    "#Count plot\n",
    "sns.countplot(x = dataset['airline'],ax = axs[0], order = dataset['airline'].value_counts().index)\n",
    "\n",
    "\n",
    "# Pie plot\n",
    "axs[1].pie(dataset['airline'].value_counts(), labels = dataset['airline'].unique(), autopct = \"%0.2f%%\")\n",
    "\n",
    "# Adjust layout \n",
    "plt.tight_layout()\n",
    "# show plot\n",
    "plt.show()"
   ]
  },
  {
   "cell_type": "code",
   "execution_count": null,
   "id": "f2e9b0e6",
   "metadata": {},
   "outputs": [],
   "source": []
  },
  {
   "cell_type": "code",
   "execution_count": null,
   "id": "4b353537",
   "metadata": {},
   "outputs": [],
   "source": []
  },
  {
   "cell_type": "code",
   "execution_count": null,
   "id": "0a2db9fc",
   "metadata": {},
   "outputs": [],
   "source": []
  },
  {
   "cell_type": "code",
   "execution_count": 49,
   "id": "b9efe106",
   "metadata": {},
   "outputs": [
    {
     "data": {
      "text/plain": [
       "Index(['airline', 'flight', 'source_city', 'departure_time', 'stops',\n",
       "       'arrival_time', 'destination_city', 'class', 'duration', 'days_left',\n",
       "       'price'],\n",
       "      dtype='object')"
      ]
     },
     "execution_count": 49,
     "metadata": {},
     "output_type": "execute_result"
    }
   ],
   "source": [
    "dataset.columns"
   ]
  },
  {
   "cell_type": "markdown",
   "id": "1211a1bf",
   "metadata": {},
   "source": [
    "## Feature Engineering and Feature Selection"
   ]
  },
  {
   "cell_type": "markdown",
   "id": "746e94fb",
   "metadata": {},
   "source": [
    "####  Pearson Correlation matrix"
   ]
  },
  {
   "cell_type": "code",
   "execution_count": null,
   "id": "140ff333",
   "metadata": {},
   "outputs": [],
   "source": []
  },
  {
   "cell_type": "markdown",
   "id": "b5eb8e93",
   "metadata": {},
   "source": [
    "## Model Building"
   ]
  },
  {
   "cell_type": "markdown",
   "id": "041eeabe",
   "metadata": {},
   "source": [
    "For model building we will be using all the availabel algorithms in ML for current regression problem."
   ]
  },
  {
   "cell_type": "code",
   "execution_count": null,
   "id": "3cad3bc4",
   "metadata": {},
   "outputs": [],
   "source": []
  }
 ],
 "metadata": {
  "kernelspec": {
   "display_name": "Python 3 (ipykernel)",
   "language": "python",
   "name": "python3"
  },
  "language_info": {
   "codemirror_mode": {
    "name": "ipython",
    "version": 3
   },
   "file_extension": ".py",
   "mimetype": "text/x-python",
   "name": "python",
   "nbconvert_exporter": "python",
   "pygments_lexer": "ipython3",
   "version": "3.10.9"
  }
 },
 "nbformat": 4,
 "nbformat_minor": 5
}
